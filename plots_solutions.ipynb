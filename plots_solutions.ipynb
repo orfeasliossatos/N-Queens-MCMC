{
 "cells": [
  {
   "cell_type": "code",
   "execution_count": null,
   "metadata": {},
   "outputs": [],
   "source": [
    "import matplotlib.pyplot as plt\n",
    "\n",
    "\n",
    "num_iter = [(100, 7001), (200, 9694), (300, 15257), (400, 19311), (500, 26290), (600, 103526), (700, 44878), (800, 110531), (900, 127914), (1000, 237338)]\n",
    "\n",
    "plt.figure(figsize=(10, 5), facecolor='white')\n",
    "x_values, y_values = zip(*num_iter)\n",
    "plt.bar(x_values, y_values)\n",
    "plt.bar(x_values, y_values, width=50)\n",
    "plt.yticks(range(0, 300000, 50000))\n",
    "plt.xticks(range(100, 1100, 100))\n",
    "plt.xlabel('N')\n",
    "plt.title('Number of iterations for various N\\'s')\n",
    "plt.show()\n",
    "\n"
   ]
  },
  {
   "cell_type": "code",
   "execution_count": null,
   "metadata": {},
   "outputs": [],
   "source": [
    "import csv\n",
    "import numpy as np\n",
    "from numpy import genfromtxt\n",
    "values = genfromtxt('losses.csv', delimiter=',')\n",
    "num_iter = 100901\n",
    "MAX_ITERS = 500000\n",
    "\n",
    "repeat = 10\n",
    "values = values.reshape((repeat, MAX_ITERS))\n",
    "\n",
    "error = np.std(values, axis=0)\n",
    "mean = np.mean(values, axis=0)\n",
    "max_error = len(np.sum(values, axis=0)[np.argwhere(np.sum(values, axis=0) > 0)])\n",
    "print(max_error)\n",
    "\n",
    "plt.figure(figsize=(10, 5), facecolor='white')\n",
    "plt.plot(np.arange(0, MAX_ITERS, 1), mean, label=\"Average\")\n",
    "\n",
    "plt.errorbar(np.arange(0, MAX_ITERS, 1), mean, yerr =error, xerr=None, fmt='none', color='red', errorevery=10000, label=\"Stdv\")\n",
    "\n",
    "plt.yticks(range(0, 1000, 100))\n",
    "plt.yscale(\"log\")\n",
    "plt.axvline(x=max_error, color='red')\n",
    "plt.text(x=max_error-40000, y=400, s='Loss=0', color='red', fontsize=12)\n",
    "plt.ylabel('Loss function')\n",
    "plt.xlabel('Number of iterations')\n",
    "plt.xlim([0, max_error + 100000])\n",
    "plt.xticks(range(0, max_error + 100000, 100000))\n",
    "plt.title(f\"Number of iterations for beta(t)=log(t**2). Loss is always 0 after {max_error} iter. Repeated 10 times.\")\n",
    "plt.legend(loc=\"best\")\n",
    "plt.savefig(\"beta_custom_10rep.png\")\n",
    "plt.show()\n"
   ]
  },
  {
   "cell_type": "code",
   "execution_count": null,
   "metadata": {},
   "outputs": [],
   "source": [
    "num_iter = [('10', 106778),('100',100901), ('500',100901), ('1000',100901)]\n",
    "x = ['6', '7', '8', '9', '10','100','500','1000']\n",
    "y = [6017860,158823,132893, 132309, 106778, 100901, 100901, 100901]\n",
    "\n",
    "plt.figure(figsize=(10, 5), facecolor='white')\n",
    "plt.bar(x,y)\n",
    "plt.yscale(\"log\")\n",
    "plt.xlabel('β')\n",
    "plt.title('Number of iterations for various fixed β\\'s (log scale)')\n",
    "plt.show()"
   ]
  },
  {
   "cell_type": "code",
   "execution_count": null,
   "metadata": {},
   "outputs": [],
   "source": []
  }
 ],
 "metadata": {
  "kernelspec": {
   "display_name": "Python 3",
   "language": "python",
   "name": "python3"
  },
  "language_info": {
   "codemirror_mode": {
    "name": "ipython",
    "version": 3
   },
   "file_extension": ".py",
   "mimetype": "text/x-python",
   "name": "python",
   "nbconvert_exporter": "python",
   "pygments_lexer": "ipython3",
   "version": "3.10.6"
  },
  "orig_nbformat": 4,
  "vscode": {
   "interpreter": {
    "hash": "31f2aee4e71d21fbe5cf8b01ff0e069b9275f58929596ceb00d14d90e3e16cd6"
   }
  }
 },
 "nbformat": 4,
 "nbformat_minor": 2
}
