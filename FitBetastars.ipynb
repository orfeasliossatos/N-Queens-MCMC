{
 "cells": [
  {
   "cell_type": "code",
   "execution_count": 10,
   "id": "artistic-briefing",
   "metadata": {},
   "outputs": [],
   "source": [
    "import numpy as np\n",
    "import matplotlib.pyplot as plt\n",
    "import matplotlib as mpl\n",
    "from sklearn.linear_model import LinearRegression\n",
    "from scipy.optimize import curve_fit"
   ]
  },
  {
   "cell_type": "code",
   "execution_count": 11,
   "id": "faced-referral",
   "metadata": {},
   "outputs": [],
   "source": [
    "with open('betastars.txt') as f:\n",
    "    betastars = np.array([[float(x) for x in line.split(',')] for line in f])"
   ]
  },
  {
   "cell_type": "code",
   "execution_count": 12,
   "id": "external-description",
   "metadata": {},
   "outputs": [],
   "source": [
    "betastars = betastars.flatten()"
   ]
  },
  {
   "cell_type": "code",
   "execution_count": 13,
   "id": "color-sleeve",
   "metadata": {},
   "outputs": [],
   "source": [
    "def abline(slope, intercept):\n",
    "    \"\"\"Plot a line from slope and intercept\"\"\"\n",
    "    axes = plt.gca()\n",
    "    x_vals = np.array(axes.get_xlim())\n",
    "    y_vals = intercept + slope * x_vals\n",
    "    plt.plot(x_vals, y_vals, '-', label='lin')"
   ]
  },
  {
   "cell_type": "code",
   "execution_count": 14,
   "id": "future-figure",
   "metadata": {},
   "outputs": [],
   "source": [
    "def expcurve(parameters):\n",
    "    \"\"\"Plot an exponential curve\"\"\"\n",
    "    axes = plt.gca()\n",
    "    x_vals = np.array(axes.get_xlim())\n",
    "    y_vals = exp_model(x_vals, *parameters)\n",
    "    plt.plot(x_vals, y_vals, '-', label='exp')"
   ]
  },
  {
   "cell_type": "code",
   "execution_count": 15,
   "id": "honey-longer",
   "metadata": {},
   "outputs": [],
   "source": [
    "def exp_model(x, a, b,c):\n",
    "    return a*np.exp(-b*x)+c"
   ]
  },
  {
   "cell_type": "code",
   "execution_count": 21,
   "id": "electronic-appointment",
   "metadata": {},
   "outputs": [
    {
     "name": "stderr",
     "output_type": "stream",
     "text": [
      "<ipython-input-15-01ee8ec6a18a>:2: RuntimeWarning: overflow encountered in exp\n",
      "  return a*np.exp(-b*x)+c\n"
     ]
    }
   ],
   "source": [
    "# Fit curves\n",
    "x = np.array(list(range(4, 28)))\n",
    "y = betastars\n",
    "drop = 6 # Drop \n",
    "\n",
    "# Fit a line\n",
    "reg = LinearRegression().fit(x.reshape(-1,1)[drop:], y[drop:])\n",
    "params, _ = curve_fit(exp_model, x[drop:], y[drop:])"
   ]
  },
  {
   "cell_type": "code",
   "execution_count": 22,
   "id": "violent-annex",
   "metadata": {},
   "outputs": [
    {
     "data": {
      "image/png": "[encoded data removed]",
      "text/plain": [
       "<Figure size 432x288 with 1 Axes>"
      ]
     },
     "metadata": {
      "needs_background": "light"
     },
     "output_type": "display_data"
    }
   ],
   "source": [
    "# Colours\n",
    "colors = y\n",
    "cmap = mpl.cm.magma\n",
    "norm = mpl.colors.Normalize(vmin=0, vmax=7)\n",
    "\n",
    "# Draw lines\n",
    "fig, ax = plt.subplots()\n",
    "plt.scatter(x,y,c=colors, cmap=cmap, norm=norm)\n",
    "abline(reg.coef_[0], reg.intercept_)\n",
    "expcurve(params)\n",
    "\n",
    "# title, legend, axes, ticks\n",
    "plt.title(r\"$\\beta_*$ for N-Queens with known number of solutions\")\n",
    "ax.set_xticks(np.append(x[::4],27))\n",
    "plt.legend()\n",
    "plt.show()"
   ]
  },
  {
   "cell_type": "code",
   "execution_count": null,
   "id": "muslim-headline",
   "metadata": {},
   "outputs": [],
   "source": [
    "print(\"Lin model (ax+b):\\tb = {0:.2f}\".format(reg.intercept_), \"a= {0:.2f}\".format(reg.coef_[0]))\n",
    "print(\"(N=1000) predicted β*:\\t {0:.3f}\".format(reg.predict([[1000]])[0]), \"\\n\")\n",
    "\n",
    "print(\"Exp model a*exp(-bx)+c:\\t\", \"a = {0:.2f}, b = {1:.2f}, c = {2:.2f}\".format(*params))\n",
    "print(\"(N=1000) predicted β*:\\t {0:.3f}\".format(exp_model(1000, *params)))"
   ]
  },
  {
   "cell_type": "code",
   "execution_count": 41,
   "id": "reasonable-calendar",
   "metadata": {},
   "outputs": [],
   "source": [
    "betastring = \",\".join(str(x)[:5] for x in exp_model(np.arange(50, 1001, 50), *params)) "
   ]
  },
  {
   "cell_type": "code",
   "execution_count": 42,
   "id": "cardiac-sharp",
   "metadata": {},
   "outputs": [],
   "source": [
    "# Write predicted betas for 50 to 1000 step 50\n",
    "with open('fitbetastars.txt','w') as f:\n",
    "     f.write(betastring)"
   ]
  }
 ],
 "metadata": {
  "kernelspec": {
   "display_name": "Python 3",
   "language": "python",
   "name": "python3"
  },
  "language_info": {
   "codemirror_mode": {
    "name": "ipython",
    "version": 3
   },
   "file_extension": ".py",
   "mimetype": "text/x-python",
   "name": "python",
   "nbconvert_exporter": "python",
   "pygments_lexer": "ipython3",
   "version": "3.8.3"
  }
 },
 "nbformat": 4,
 "nbformat_minor": 5
}
