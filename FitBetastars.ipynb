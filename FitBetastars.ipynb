{
 "cells": [
  {
   "cell_type": "code",
   "execution_count": null,
   "id": "personal-effects",
   "metadata": {},
   "outputs": [],
   "source": [
    "import numpy as np\n",
    "import matplotlib.pyplot as plt\n",
    "import matplotlib as mpl\n",
    "from sklearn.linear_model import LinearRegression\n",
    "from scipy.optimize import curve_fit"
   ]
  },
  {
   "cell_type": "code",
   "execution_count": null,
   "id": "stupid-graduate",
   "metadata": {},
   "outputs": [],
   "source": [
    "with open('knownbetastars.csv') as f:\n",
    "    betastars = np.array([[float(x) for x in line.split(',')] for line in f])"
   ]
  },
  {
   "cell_type": "code",
   "execution_count": null,
   "id": "broken-budget",
   "metadata": {},
   "outputs": [],
   "source": [
    "betastars = betastars.flatten()"
   ]
  },
  {
   "cell_type": "code",
   "execution_count": null,
   "id": "mathematical-default",
   "metadata": {},
   "outputs": [],
   "source": [
    "def abline(slope, intercept):\n",
    "    \"\"\"Plot a line from slope and intercept\"\"\"\n",
    "    axes = plt.gca()\n",
    "    x_vals = np.array(axes.get_xlim())\n",
    "    y_vals = intercept + slope * x_vals\n",
    "    plt.plot(x_vals, y_vals, '-', label='lin')"
   ]
  },
  {
   "cell_type": "code",
   "execution_count": null,
   "id": "rental-entrepreneur",
   "metadata": {},
   "outputs": [],
   "source": [
    "def expcurve(parameters):\n",
    "    \"\"\"Plot an exponential curve\"\"\"\n",
    "    axes = plt.gca()\n",
    "    x_vals = np.array(axes.get_xlim())\n",
    "    y_vals = exp_model(x_vals, *parameters)\n",
    "    plt.plot(x_vals, y_vals, '-', label='exp')"
   ]
  },
  {
   "cell_type": "code",
   "execution_count": null,
   "id": "acceptable-mercy",
   "metadata": {},
   "outputs": [],
   "source": [
    "def invcurve(parameters):\n",
    "    \"\"\"Plot an exponential curve\"\"\"\n",
    "    axes = plt.gca()\n",
    "    x_vals = np.array(axes.get_xlim())\n",
    "    y_vals = inv_model(x_vals, *parameters)\n",
    "    plt.plot(x_vals, y_vals, '-', label='inv')"
   ]
  },
  {
   "cell_type": "code",
   "execution_count": null,
   "id": "headed-submission",
   "metadata": {},
   "outputs": [],
   "source": [
    "def exp_model(x, a, b):\n",
    "    return a*np.exp(-0.01*x)+b"
   ]
  },
  {
   "cell_type": "code",
   "execution_count": null,
   "id": "ahead-conjunction",
   "metadata": {},
   "outputs": [],
   "source": [
    "def inv_model(x, a, b, c):\n",
    "    return a / x**b+c"
   ]
  },
  {
   "cell_type": "code",
   "execution_count": null,
   "id": "stylish-racing",
   "metadata": {},
   "outputs": [],
   "source": [
    "# Fit curves\n",
    "x = np.array(list(range(4, 28)))\n",
    "y = betastars\n",
    "drop = 6 # Drop \n",
    "\n",
    "# Fit a line\n",
    "reg = LinearRegression().fit(x.reshape(-1,1)[drop:], y[drop:])\n",
    "exp_params, _ = curve_fit(exp_model, x[drop:], y[drop:], p0=(1,1))\n",
    "inv_params, _ = curve_fit(inv_model, x[drop:], y[drop:], p0=(0.001,0.001,0.001))"
   ]
  },
  {
   "cell_type": "code",
   "execution_count": null,
   "id": "technical-trick",
   "metadata": {},
   "outputs": [],
   "source": [
    "# Colours\n",
    "colors = y\n",
    "cmap = mpl.cm.magma\n",
    "norm = mpl.colors.Normalize(vmin=0, vmax=7)\n",
    "\n",
    "# Draw lines\n",
    "fig, ax = plt.subplots()\n",
    "plt.scatter(x,y,c=colors, cmap=cmap, norm=norm)\n",
    "abline(reg.coef_[0], reg.intercept_)\n",
    "expcurve(exp_params)\n",
    "invcurve(inv_params)\n",
    "\n",
    "# title, legend, axes, ticks\n",
    "plt.title(r\"$\\beta_*$ for N-Queens with known number of solutions\")\n",
    "ax.set_xticks(np.append(x[::4],27))\n",
    "plt.legend()\n",
    "plt.show()"
   ]
  },
  {
   "cell_type": "code",
   "execution_count": null,
   "id": "further-reception",
   "metadata": {
    "scrolled": false
   },
   "outputs": [],
   "source": [
    "print(\"Lin model (ax+b):\\tb = {0:.2f}\".format(reg.intercept_), \"a= {0:.2f}\".format(reg.coef_[0]))\n",
    "print(\"(N=1000) predicted β*:\\t {0:.3f}\".format(reg.predict([[1000]])[0]), \"\\n\")\n",
    "\n",
    "print(\"Exp model a*exp(-0.01x)+b:\\t\", \"a = {0:.2f}, b = {1:.2f}\".format(*exp_params))\n",
    "print(\"(N=1000) predicted β*:\\t {0:.3f}\".format(exp_model(1000, *exp_params)), \"\\n\")\n",
    "\n",
    "print(\"Inv model a/x^b+c:\\t\", \"a = {0:.2f}, b = {1:.2f}, c={1:.2f}\".format(*(inv_params)))\n",
    "print(\"(N=1000) predicted β*:\\t {0:.3f}\".format(inv_model(1000, *(inv_params))))"
   ]
  },
  {
   "cell_type": "code",
   "execution_count": null,
   "id": "indie-artist",
   "metadata": {},
   "outputs": [],
   "source": [
    "Ns = np.arange(100, 1001, 100)\n",
    "print(\"-------------\\nN & β* & lin & exp & inv\")\n",
    "for i, N in enumerate(Ns):\n",
    "    print(\"{0:d} & {1:.3f} & {2:.3f} & {3:.3f}\".format(N, reg.predict([[N]])[0], exp_model(N, *exp_params), inv_model(N, *inv_params)))\n",
    "    \n"
   ]
  },
  {
   "cell_type": "code",
   "execution_count": null,
   "id": "handmade-debut",
   "metadata": {},
   "outputs": [],
   "source": [
    "betastring = \",\".join(str(x)[:5] for x in exp_model(np.arange(100, 1001, 100), *exp_params)) "
   ]
  },
  {
   "cell_type": "code",
   "execution_count": null,
   "id": "informative-taxation",
   "metadata": {},
   "outputs": [],
   "source": [
    "# Write predicted betas for 50 to 1000 step 50\n",
    "with open('fitbetastars.csv','w') as f:\n",
    "     f.write(betastring)"
   ]
  }
 ],
 "metadata": {
  "kernelspec": {
   "display_name": "Python 3",
   "language": "python",
   "name": "python3"
  },
  "language_info": {
   "codemirror_mode": {
    "name": "ipython",
    "version": 3
   },
   "file_extension": ".py",
   "mimetype": "text/x-python",
   "name": "python",
   "nbconvert_exporter": "python",
   "pygments_lexer": "ipython3",
   "version": "3.8.3"
  }
 },
 "nbformat": 4,
 "nbformat_minor": 5
}
