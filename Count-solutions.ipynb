{
 "cells": [
  {
   "cell_type": "markdown",
   "id": "enormous-numbers",
   "metadata": {},
   "source": [
    "# N-Queens MCMC P.2\n",
    "## Estimating the number of solutions."
   ]
  },
  {
   "cell_type": "code",
   "execution_count": 123,
   "id": "massive-voltage",
   "metadata": {},
   "outputs": [],
   "source": [
    "# Imports\n",
    "import time, sys, timeit\n",
    "from IPython.display import clear_output\n",
    "import numpy as np\n",
    "import itertools as it\n",
    "import math"
   ]
  },
  {
   "cell_type": "code",
   "execution_count": 124,
   "id": "threatened-assumption",
   "metadata": {},
   "outputs": [],
   "source": [
    "# For reproducibility\n",
    "np.random.seed(2022)"
   ]
  },
  {
   "cell_type": "code",
   "execution_count": 204,
   "id": "adapted-pride",
   "metadata": {},
   "outputs": [],
   "source": [
    "# Initialisation\n",
    "N = 27\n",
    "C = math.comb(N,2)\n",
    "z0 = np.arange(1,N+1)\n",
    "beta = 1\n",
    "\n",
    "idx_pairs = np.array(list(it.combinations(z0,2))) - [1,1]\n",
    "col_diff = np.array([j-i for (i,j) in idx_pairs])\n",
    "np.random.shuffle(z0)"
   ]
  },
  {
   "cell_type": "code",
   "execution_count": 205,
   "id": "korean-division",
   "metadata": {},
   "outputs": [],
   "source": [
    "def swap(z, i, j):\n",
    "    \"\"\"\n",
    "    Swaps the elements of z at indices i and j, then returns z. Inplace.\n",
    "    \"\"\"\n",
    "    z[[i, j]] = z[j], z[i]\n",
    "    return z"
   ]
  },
  {
   "cell_type": "code",
   "execution_count": 206,
   "id": "blind-function",
   "metadata": {},
   "outputs": [],
   "source": [
    "def threats(z, i):\n",
    "    \"\"\"\n",
    "    Returns number of queens threatening queen i.\n",
    "    \"\"\"\n",
    "    Q = np.delete(np.arange(N), i) # Other queens\n",
    "    return np.sum(abs(Q-i)==abs(z[Q]-z[i]))"
   ]
  },
  {
   "cell_type": "code",
   "execution_count": 207,
   "id": "economic-accordance",
   "metadata": {},
   "outputs": [],
   "source": [
    "def loss_diff(z, i, j):\n",
    "    \"\"\"\n",
    "    Given a state z and swap operation (i,j), calculates the change in loss.\n",
    "    \"\"\"\n",
    "    old = threats(z,i) + threats(z,j)\n",
    "    y = swap(z, i, j)\n",
    "    new = threats(y,i) + threats(y,j)\n",
    "    z = swap(y, i, j)\n",
    "\n",
    "    return new - old"
   ]
  },
  {
   "cell_type": "code",
   "execution_count": 208,
   "id": "controversial-feelings",
   "metadata": {},
   "outputs": [],
   "source": [
    "### Loss function runs in n(n+1)/2 steps.\n",
    "def loss(z):\n",
    "    \"\"\"\n",
    "    Interprets z as chessboard with N queens threatening each other diagonally.\n",
    "    Counts the number of unique pairs of threatening queens.\n",
    "    \"\"\"\n",
    "    # Compute pairwise differences in z.\n",
    "    row_diff = np.array([abs(z[j]-z[i]) for (i,j) in idx_pairs])\n",
    "    loss = np.sum(col_diff==row_diff)\n",
    "    return loss"
   ]
  },
  {
   "cell_type": "code",
   "execution_count": 315,
   "id": "featured-discretion",
   "metadata": {},
   "outputs": [
    {
     "name": "stdout",
     "output_type": "stream",
     "text": [
      "Here's a valid solution:  [22  6  2 18 20 11  3 19  4 10 27 14  1 15 24  8 23 26 17 13  7 25 12 21\n",
      "  9 16  5] \n",
      "Found after  485  steps. (beta =  7 )\n"
     ]
    }
   ],
   "source": [
    "# Run search\n",
    "MAX_ITERS=1000000\n",
    "REG_ITERS = 1000\n",
    "z = z0.copy()\n",
    "I = np.append(idx_pairs, [[0, 0]],axis=0)\n",
    "l = loss(z)\n",
    "for t in range(1, MAX_ITERS):\n",
    "\n",
    "    # Calculate loss\n",
    "    if t % REG_ITERS == 0:\n",
    "        \n",
    "        # Print current loss\n",
    "        clear_output(wait = True)\n",
    "        print(\"t =\", t, \"| conflicts =\", l)\n",
    "\n",
    "    # Choose a random swap\n",
    "    beta = 7 # np.log(t**2/N)\n",
    "    i, j = idx_pairs[np.random.choice(C, size=1)][0]\n",
    "    diff = loss_diff(z,i,j)\n",
    "    acc = min(1, np.exp(-beta*diff))\n",
    "    if np.random.rand() < acc:\n",
    "        z = swap(z,i,j)\n",
    "        l += diff\n",
    "    \n",
    "    # If a solution is found, exit.\n",
    "    if l <= 0:\n",
    "        break\n",
    "    \n",
    "if (loss(z) == 0):    \n",
    "    print(\"Here's a valid solution: \", z, \"\\nFound after \", t, \" steps. (beta = \", beta, \")\")"
   ]
  },
  {
   "cell_type": "code",
   "execution_count": 330,
   "id": "electric-morrison",
   "metadata": {},
   "outputs": [
    {
     "name": "stdout",
     "output_type": "stream",
     "text": [
      "18\n"
     ]
    }
   ],
   "source": [
    "# Estimating the number of solutions.\n",
    "beta = 7\n",
    "T = 20\n",
    "B = np.linspace(1, beta, T)\n",
    "print(B)\n",
    "M = 100\n",
    "Z_ratios = []\n",
    "THRESH = 1000\n",
    "\n",
    "for t in range(T-1):\n",
    "    \n",
    "    # Print current length of L\n",
    "    clear_output(wait = True)\n",
    "    print(t)\n",
    "    \n",
    "    # Initial random sample\n",
    "    x = np.arange(1,N+1)\n",
    "    np.random.shuffle(x)\n",
    "    \n",
    "    # Loss records\n",
    "    l = loss(x)\n",
    "    L  = np.array([l])\n",
    "    for k in range(1, MAX_ITERS):    \n",
    "        \n",
    "        i, j = idx_pairs[np.random.choice(C, size=1)][0]\n",
    "        diff = loss_diff(x,i,j)\n",
    "        acc = min(1, np.exp(-B[t]*diff))\n",
    "        if np.random.rand() < acc:\n",
    "            x = swap(x,i,j)\n",
    "            l += diff\n",
    "        \n",
    "        if (k > THRESH):\n",
    "            L = np.append(L, l)    \n",
    "\n",
    "        if len(L) == M: break\n",
    "    Z_ratios = np.append(Z_ratios, np.mean(np.exp(-(B[t+1] - B[t]) * L)))\n",
    "\n",
    "Z_inf_ratio = np.prod(Z_ratios)\n",
    "num_solutions = Z_inf_ratio * np.math.factorial(N)"
   ]
  },
  {
   "cell_type": "code",
   "execution_count": 332,
   "id": "inappropriate-wyoming",
   "metadata": {},
   "outputs": [
    {
     "name": "stdout",
     "output_type": "stream",
     "text": [
      "estimated # of solutions (log method) =  8.649962751386016e+21\n",
      "Magnitude =  21.937014237302694\n"
     ]
    }
   ],
   "source": [
    "print(\"estimated # of solutions (log method) = \", num_solutions)\n",
    "print(\"Magnitude = \", np.log10(num_solutions))"
   ]
  },
  {
   "cell_type": "code",
   "execution_count": 264,
   "id": "tough-lawrence",
   "metadata": {},
   "outputs": [
    {
     "data": {
      "text/plain": [
       "17.370897746587715"
      ]
     },
     "execution_count": 264,
     "metadata": {},
     "output_type": "execute_result"
    }
   ],
   "source": [
    "np.log10(234_907_967_154_122_528)"
   ]
  }
 ],
 "metadata": {
  "kernelspec": {
   "display_name": "Python 3",
   "language": "python",
   "name": "python3"
  },
  "language_info": {
   "codemirror_mode": {
    "name": "ipython",
    "version": 3
   },
   "file_extension": ".py",
   "mimetype": "text/x-python",
   "name": "python",
   "nbconvert_exporter": "python",
   "pygments_lexer": "ipython3",
   "version": "3.8.3"
  }
 },
 "nbformat": 4,
 "nbformat_minor": 5
}
