{
 "cells": [
  {
   "cell_type": "markdown",
   "id": "enormous-numbers",
   "metadata": {},
   "source": [
    "# N-Queens MCMC P.2\n",
    "## Estimating the number of solutions."
   ]
  },
  {
   "cell_type": "code",
   "execution_count": null,
   "id": "massive-voltage",
   "metadata": {},
   "outputs": [],
   "source": [
    "# Imports\n",
    "import time, sys, timeit\n",
    "from IPython.display import clear_output\n",
    "import numpy as np\n",
    "import itertools as it\n",
    "import math"
   ]
  },
  {
   "cell_type": "code",
   "execution_count": null,
   "id": "threatened-assumption",
   "metadata": {},
   "outputs": [],
   "source": [
    "# For reproducibility\n",
    "np.random.seed(2022)"
   ]
  },
  {
   "cell_type": "code",
   "execution_count": null,
   "id": "adapted-pride",
   "metadata": {},
   "outputs": [],
   "source": [
    "# Initialisation\n",
    "N = 1000\n",
    "C = math.comb(N,2)\n",
    "z0 = np.arange(1,N+1)\n",
    "beta = 1\n",
    "\n",
    "idx_pairs = np.array(list(it.combinations(z0,2))) - [1,1]\n",
    "col_diff = np.array([j-i for (i,j) in idx_pairs])\n",
    "np.random.shuffle(z0)"
   ]
  },
  {
   "cell_type": "code",
   "execution_count": null,
   "id": "korean-division",
   "metadata": {},
   "outputs": [],
   "source": [
    "def swap(z, i, j):\n",
    "    \"\"\"\n",
    "    Swaps the elements of z at indices i and j, then returns z. Inplace.\n",
    "    \"\"\"\n",
    "    z[[i, j]] = z[j], z[i]\n",
    "    return z"
   ]
  },
  {
   "cell_type": "code",
   "execution_count": null,
   "id": "blind-function",
   "metadata": {},
   "outputs": [],
   "source": [
    "def threats(z, i):\n",
    "    \"\"\"\n",
    "    Returns number of queens threatening queen i.\n",
    "    \"\"\"\n",
    "    Q = np.delete(np.arange(N), i) # Other queens\n",
    "    return np.sum(abs(Q-i)==abs(z[Q]-z[i]))"
   ]
  },
  {
   "cell_type": "code",
   "execution_count": null,
   "id": "economic-accordance",
   "metadata": {},
   "outputs": [],
   "source": [
    "def loss_diff(z, i, j):\n",
    "    \"\"\"\n",
    "    Given a state z and swap operation (i,j), calculates the change in loss.\n",
    "    \"\"\"\n",
    "    old = threats(z,i) + threats(z,j)\n",
    "    y = swap(z, i, j)\n",
    "    new = threats(y,i) + threats(y,j)\n",
    "    z = swap(y, i, j)\n",
    "\n",
    "    return new - old"
   ]
  },
  {
   "cell_type": "code",
   "execution_count": null,
   "id": "controversial-feelings",
   "metadata": {},
   "outputs": [],
   "source": [
    "### Loss function runs in n(n+1)/2 steps.\n",
    "def loss(z):\n",
    "    \"\"\"\n",
    "    Interprets z as chessboard with N queens threatening each other diagonally.\n",
    "    Counts the number of unique pairs of threatening queens.\n",
    "    \"\"\"\n",
    "    # Compute pairwise differences in z.\n",
    "    row_diff = np.array([abs(z[j]-z[i]) for (i,j) in idx_pairs])\n",
    "    loss = np.sum(col_diff==row_diff)\n",
    "    return loss"
   ]
  },
  {
   "cell_type": "code",
   "execution_count": null,
   "id": "featured-discretion",
   "metadata": {},
   "outputs": [],
   "source": [
    "### Run search (NOT FEASIBLE)\n",
    "MAX_ITERS=1000000\n",
    "REG_ITERS = 1000\n",
    "z = z0.copy()\n",
    "I = np.append(idx_pairs, [[0, 0]],axis=0)\n",
    "l = loss(z)\n",
    "for t in range(1, MAX_ITERS):\n",
    "\n",
    "    # Calculate loss\n",
    "    if t % REG_ITERS == 0:\n",
    "        \n",
    "        # Print current loss\n",
    "        clear_output(wait = True)\n",
    "        print(\"t =\", t, \"| conflicts =\", l)\n",
    "\n",
    "    # Choose a random swap\n",
    "    b = np.log(t**2/N)\n",
    "    i, j = idx_pairs[np.random.choice(C, size=1)][0]\n",
    "    diff = loss_diff(z,i,j)\n",
    "    acc = min(1, np.exp(-b*diff))\n",
    "    if np.random.rand() < acc:\n",
    "        z = swap(z,i,j)\n",
    "        l += diff\n",
    "    \n",
    "    # If a solution is found, exit.\n",
    "    if l <= 0:\n",
    "        break\n",
    "    \n",
    "if (loss(z) == 0):    \n",
    "    print(\"Here's a valid solution: \", z, \"\\nFound after \", t, \" steps. (beta = \", np.log(t), \")\")"
   ]
  }
 ],
 "metadata": {
  "kernelspec": {
   "display_name": "Python 3",
   "language": "python",
   "name": "python3"
  },
  "language_info": {
   "codemirror_mode": {
    "name": "ipython",
    "version": 3
   },
   "file_extension": ".py",
   "mimetype": "text/x-python",
   "name": "python",
   "nbconvert_exporter": "python",
   "pygments_lexer": "ipython3",
   "version": "3.8.3"
  }
 },
 "nbformat": 4,
 "nbformat_minor": 5
}
