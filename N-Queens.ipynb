{
 "cells": [
  {
   "cell_type": "markdown",
   "id": "anonymous-baseline",
   "metadata": {},
   "source": [
    "# N-Queens MCMC"
   ]
  },
  {
   "cell_type": "markdown",
   "id": "joined-permit",
   "metadata": {},
   "source": [
    "## Problem statement.\n",
    "\n",
    "What is the number of configurations of $N$ queens on an $N\\times N$ chessboard such that no two queens threaten each other?"
   ]
  },
  {
   "cell_type": "markdown",
   "id": "green-brazilian",
   "metadata": {},
   "source": [
    "## Solution strategy.\n",
    "\n",
    "We approach the problem in the following manner."
   ]
  },
  {
   "cell_type": "markdown",
   "id": "stock-ownership",
   "metadata": {},
   "source": [
    "### Overview\n",
    "\n",
    "We aim to construct a probability distribution $\\pi$ over $S$: the configurations of queens with only diagonal threats, if they exist. We set the probability of a configuration to be low for highly conflicting queens, and high for little-conflicting queens. Finding solutions is then a matter of sampling from $\\pi$.\n",
    "\n",
    "Since the state space is large ($|S|=N!$), we employ the Metropolis-Hastings algorithm to approximate the true probability distribution $\\pi$, which can be viewed as the unique stationary distribution of a Markov Chain with state space $S$ and transition matrix $P$. A state transition swaps two rows of the chessboard, or does nothing."
   ]
  },
  {
   "cell_type": "markdown",
   "id": "together-click",
   "metadata": {},
   "source": [
    "### Loss function\n",
    "The state space of diagonally-conflicting queens $S$ is in bijection with the set of permutations of $N$ integers."
   ]
  },
  {
   "cell_type": "code",
   "execution_count": 1,
   "id": "desperate-arrow",
   "metadata": {},
   "outputs": [],
   "source": [
    "# Number each queen 1...N according to her column. Let them index an array z of length N that records each queen's row. \n",
    "\n",
    "#############\n",
    "#Q1|--|--|--#\n",
    "#--|--|Q3|--#\n",
    "#--|--|--|Q4#\n",
    "#--|Q2|--|--#\n",
    "############# <=> z = [1,4,2,3]. 1 threat.\n",
    "\n",
    "# Swap board rows 1 & 2 / Swap array elements 1 & 2 (not indices!!)\n",
    "\n",
    "#############\n",
    "#--|--|Q3|--#\n",
    "#Q1|--|--|--#\n",
    "#--|--|--|Q4#\n",
    "#--|Q2|--|--#\n",
    "############# <=> z = [2,4,1,3]. 0 threats."
   ]
  },
  {
   "cell_type": "markdown",
   "id": "invalid-annual",
   "metadata": {},
   "source": [
    "If two queens $i, j$ are threatening each other on the chess board, then the following identity holds. Without loss of generality, set $j>i$. \n",
    "$$\\text{col}(j) - \\text{col}(i) = |\\text{row}(j) - \\text{row}(i)|$$\n",
    "\n",
    "+ We numbered each queen according to her column, so $\\text{col}(i)=i$.\n",
    "+ The array $z$ records the rows of the queens, so $\\text{row}(i)=z_i$.\n",
    "\n",
    "Therefore, the number of threats on the board under configuration $z$ is a loss function \n",
    "\n",
    "$$\\mathcal{L(z)}=\\sum_{1\\leq i<j\\leq N} \\mathbb{1}\\{j-i=z_j-z_i\\}$$\n",
    "\n",
    "Which we aim to minimize, and can be computed in $\\mathcal{O}$$N\\choose 2$ operations."
   ]
  },
  {
   "cell_type": "markdown",
   "id": "rural-brooklyn",
   "metadata": {},
   "source": [
    "### Algorithm\n",
    "\n",
    "#### Definition\n",
    "\n",
    "+ Input: $N>3$, the number of queens and side-length of the chess-board.\n",
    "+ Output: A stream of better and better configurations of queens.\n",
    "\n",
    "#### Notation\n",
    "\n",
    "Let $\\pi_\\beta(z)=e^{-\\beta\\mathcal{L}(z)} / Z_\\beta$ over $S$ be the probability distribution we wish to sample, where $\\beta>0$ adjusts explore/exploit tradeoff of the sampling process, and $Z_\\beta=\\sum_{x\\in S}e^{-\\beta\\mathcal{L}(x)}$ is a normalization constant.\n",
    "\n",
    "Let $\\Psi$ be the \"base chain\" which represents a symmetric random walk on $S$. Since there are $n\\choose 2$ possible pair-wise swap operations, \n",
    "$$\\psi_{xy}=\\begin{cases}{n \\choose 2}^{-1} & \\text{if } d(x,y)=1\\\\0 &\\text{otherwise}\\end{cases},$$\n",
    "where $d(x,y)$ is the minimum number of pairwise swaps required to configure $x$ into $y$. This chain is irreducible, positive-recurrent, period 2, and symmetric.\n",
    "\n",
    "Let $A$ be the matrix of \"acceptance probabilities\"\n",
    "$$a_{xy}=\\min\\{1,\\frac{\\pi_\\beta(y)\\psi_{yx}}{\\pi_\\beta(x)\\psi_{xy}}\\}=\\min\\{1,e^{-\\beta(\\mathcal{L}(y)-\\mathcal{L}(x))}\\}.$$\n",
    "\n",
    "The $\\pi_\\beta$ is the left-eigenvector of the transition matrix $P$, where for $d(x,y)=1$, \n",
    "$$p_{xy} = \\begin{cases}{n \\choose 2}^{-1}e^{-\\beta(\\mathcal{L}(y)-\\mathcal{L}(x))}& \\text{ when } \\mathcal{L}(y) > \\mathcal{L}(x) \\\\{n \\choose 2}^{-1}& \\text{ when } \\mathcal{L}(y) \\leq \\mathcal{L}(x)\\end{cases},$$\n",
    "and for $x=y$, \n",
    "$$p_{xx}=1-\\sum_{d(x,u)=1}p_{x,u},$$\n",
    "and 0 otherwise.\n",
    "\n",
    "#### Steps\n",
    "\n",
    "1. Let $Z_t$ be a random variable that takes values in $S$. \n",
    "2. Set $Z_0$ to the identity permutation $[1234]$ (diagonal queens).\n",
    "3. Until a threat-free configuration is found, let $Z_t$ evolve according to $P$.\n",
    "\n",
    "#### Runtime analysis\n",
    "\n",
    "(We should do more math for $\\beta(t)$, and the spectral gap)"
   ]
  },
  {
   "cell_type": "markdown",
   "id": "broadband-decrease",
   "metadata": {},
   "source": [
    "# Implementation"
   ]
  },
  {
   "cell_type": "markdown",
   "id": "advised-fundamentals",
   "metadata": {},
   "source": [
    "#### TODO\n",
    "1. Figure out source of slowdown. \n",
    "2. Investigate better expressions for beta. Perhaps adaptability?\n",
    "3. Mini-batching? More randomness. No convexity -> probably not a good idea.\n",
    "4. Note - max(P) always grows, where everything else is negligeable. Therefore, when nearing convergence, switch to early stopping\n",
    "\n",
    "#### DONE\n",
    "1. Instead of recalculating loss, calculate difference in loss."
   ]
  },
  {
   "cell_type": "code",
   "execution_count": 2,
   "id": "indie-keeping",
   "metadata": {},
   "outputs": [],
   "source": [
    "import time, sys\n",
    "from IPython.display import clear_output\n",
    "import numpy as np\n",
    "import itertools as it\n",
    "import math"
   ]
  },
  {
   "cell_type": "code",
   "execution_count": 3,
   "id": "surprised-belgium",
   "metadata": {},
   "outputs": [],
   "source": [
    "### Initialisation\n",
    "N = 30\n",
    "C = math.comb(N,2)\n",
    "z0 = np.arange(1,N+1)\n",
    "beta = 1\n",
    "\n",
    "idx_pairs = np.array(list(it.combinations(z0,2))) - [1,1]\n",
    "col_diff = np.array([j-i for (i,j) in idx_pairs])"
   ]
  },
  {
   "cell_type": "code",
   "execution_count": 4,
   "id": "developed-oklahoma",
   "metadata": {},
   "outputs": [],
   "source": [
    "def swap(z, i, j):\n",
    "    \"\"\"\n",
    "    Swaps the elements of z at indices i and j, then returns z. Inplace.\n",
    "    \"\"\"\n",
    "    z[[i, j]] = z[j], z[i]\n",
    "    return z"
   ]
  },
  {
   "cell_type": "code",
   "execution_count": 5,
   "id": "final-lesson",
   "metadata": {},
   "outputs": [],
   "source": [
    "### Loss function runs in n(n+1)/2 steps.\n",
    "def loss(z):\n",
    "    \"\"\"\n",
    "    Interprets z as chessboard with N queens threatening each other diagonally.\n",
    "    Counts the number of unique pairs of threatening queens.\n",
    "    \"\"\"\n",
    "    # Compute pairwise differences in z.\n",
    "    row_diff = np.array([abs(z[j]-z[i]) for (i,j) in idx_pairs])\n",
    "    loss = np.sum(col_diff==row_diff)\n",
    "    return loss"
   ]
  },
  {
   "cell_type": "code",
   "execution_count": 6,
   "id": "outstanding-sharp",
   "metadata": {},
   "outputs": [],
   "source": [
    "### Threat count\n",
    "def threats(z, i):\n",
    "    \"\"\"\n",
    "    Returns number of queens threatening queen i.\n",
    "    \"\"\"\n",
    "    return np.sum([abs(k-i)==abs(z[k]-z[i]) for k in range(N) if k != i])"
   ]
  },
  {
   "cell_type": "code",
   "execution_count": 7,
   "id": "ready-regression",
   "metadata": {},
   "outputs": [],
   "source": [
    "### One-step loss difference runs in 4n steps.\n",
    "def loss_diff(z, i, j):\n",
    "    \"\"\"\n",
    "    Given a state z and swap operation (i,j), calculates the change in loss.\n",
    "    \"\"\"\n",
    "    old = threats(z,i) + threats(z,j)\n",
    "    y = swap(z.copy(), i, j)\n",
    "    new = threats(y,i) + threats(y,j)\n",
    "    return new - old"
   ]
  },
  {
   "cell_type": "code",
   "execution_count": 8,
   "id": "pointed-hanging",
   "metadata": {},
   "outputs": [
    {
     "name": "stdout",
     "output_type": "stream",
     "text": [
      "t = 1060 | conflicts = 0\n",
      "1.2958392849326461e-33 0.9586205748641892\n",
      "Here's a valid solution:  [ 2 22 12  9 17 14 21  8  3 25  6 29 16 24 28 23  1  5 18 26 13 11 27 20\n",
      "  7  4 15 30 19 10] \n",
      "Found after  1060  steps. (beta =  6.966024187106113 )\n"
     ]
    }
   ],
   "source": [
    "### Run search\n",
    "MAX_ITERS=100000\n",
    "z = z0.copy()\n",
    "P = [0]\n",
    "I = np.append(idx_pairs, [[0, 0]],axis=0)\n",
    "for t in range(1, MAX_ITERS):\n",
    "    \n",
    "    # Calculate loss\n",
    "    l = loss(z)\n",
    "    \n",
    "    # Print current loss\n",
    "    clear_output(wait = True)\n",
    "    print(\"t =\", t, \"| conflicts =\", l)\n",
    "    print(min(P), max(P))\n",
    "    \n",
    "    # If a solution is found, exit.\n",
    "    if l == 0:\n",
    "        break\n",
    "        \n",
    "    # Otherwise, evolve z.\n",
    "    else:\n",
    "        # Outgoing arrows. This step takes 2*(N+1)*N^2* operations, which is better than O(N!)\n",
    "        P = np.array([min(1, np.exp(-np.log(t**2)*loss_diff(z,i,j))) / C for (i,j) in I])\n",
    "\n",
    "        # Self loop\n",
    "        P[-1] = max(0, 1 - sum(P[:-1]))\n",
    "\n",
    "        # Choose a good z\n",
    "        i, j = I[np.random.choice(C+1, size=1, p=P)][0]\n",
    "        z = swap(z, i, j)\n",
    "        \n",
    "        \n",
    "        \n",
    "        \n",
    "if (loss(z) == 0):    \n",
    "    print(\"Here's a valid solution: \", z, \"\\nFound after \", t, \" steps. (beta = \", np.log(t), \")\")"
   ]
  },
  {
   "cell_type": "code",
   "execution_count": null,
   "id": "secondary-andorra",
   "metadata": {},
   "outputs": [],
   "source": []
  }
 ],
 "metadata": {
  "kernelspec": {
   "display_name": "Python 3",
   "language": "python",
   "name": "python3"
  },
  "language_info": {
   "codemirror_mode": {
    "name": "ipython",
    "version": 3
   },
   "file_extension": ".py",
   "mimetype": "text/x-python",
   "name": "python",
   "nbconvert_exporter": "python",
   "pygments_lexer": "ipython3",
   "version": "3.8.3"
  }
 },
 "nbformat": 4,
 "nbformat_minor": 5
}
